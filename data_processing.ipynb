{
 "cells": [
  {
   "cell_type": "code",
   "execution_count": 1,
   "metadata": {},
   "outputs": [],
   "source": [
    "import os\n",
    "import numpy as np \n",
    "from matplotlib import pyplot as plt\n",
    "import math\n",
    "CURRENT_DIR = os.getcwd()"
   ]
  },
  {
   "cell_type": "code",
   "execution_count": 2,
   "metadata": {},
   "outputs": [],
   "source": [
    "astroData = []\n",
    "for file_name in os.listdir(CURRENT_DIR):\n",
    "    if file_name.endswith(\".txt\"):\n",
    "        file_path = os.path.join(CURRENT_DIR,file_name)\n",
    "        with open(file_path,\"r\") as file:\n",
    "            temp_dictionary = {}\n",
    "            for line in file:\n",
    "                if line[0] == \"-\":\n",
    "                    continue\n",
    "                else:\n",
    "                    key, value = line.strip().split(' = ')\n",
    "                    temp_dictionary[key] = value\n",
    "            astroData.append(temp_dictionary)"
   ]
  },
  {
   "cell_type": "code",
   "execution_count": 3,
   "metadata": {},
   "outputs": [],
   "source": [
    "def convertNumbersRA(inputString):\n",
    "    timeParts = inputString.split(\":\")\n",
    "    prescalers = [15,15/60,15/3600] # Make them degrees, arcminutes,arcseconds\n",
    "    finalDegree = 0\n",
    "    for time, number in zip(timeParts,prescalers):\n",
    "        finalDegree += float(time)*number\n",
    "    return finalDegree\n",
    "\n",
    "def convertNumbersDELTA(inputString):\n",
    "    timeParts = inputString.split(\":\")\n",
    "    prescalers = [1,1/60,1/3600] # Make them degrees, arcminutes,arcseconds\n",
    "    finalDegree = 0\n",
    "    for time, number in zip(timeParts,prescalers):\n",
    "        finalDegree += float(time)*number\n",
    "    return finalDegree\n",
    "\n",
    "def totalError(RA,DELTA,EXP_RA,EXP_DELTA):\n",
    "    degToRadConst = math.pi*2/360\n",
    "    part1 = RA*math.cos(DELTA*degToRadConst)-EXP_RA*math.cos(EXP_DELTA*degToRadConst)\n",
    "    part2 = DELTA-EXP_DELTA\n",
    "    return math.sqrt(part1**2+part2**2)"
   ]
  },
  {
   "cell_type": "code",
   "execution_count": 4,
   "metadata": {},
   "outputs": [],
   "source": [
    "for index,element in enumerate(astroData):\n",
    "    for key, value in element.items():\n",
    "        if key =='RA' or key == 'EXP_RA':\n",
    "            astroData[index][key] = convertNumbersRA(value)\n",
    "        elif key=='DELTA' or key=='EXP_DELTA':\n",
    "            astroData[index][key] = convertNumbersDELTA(value)\n",
    "        else:\n",
    "            continue"
   ]
  },
  {
   "cell_type": "code",
   "execution_count": 5,
   "metadata": {},
   "outputs": [],
   "source": [
    "finalData = []\n",
    "for dictionary in astroData:\n",
    "    error = totalError(dictionary['RA'],dictionary['DELTA'],dictionary['EXP_RA'],dictionary['EXP_DELTA'])\n",
    "    dictionary['ERROR%'] = error*100\n",
    "    finalData.append(dictionary)"
   ]
  },
  {
   "cell_type": "code",
   "execution_count": 7,
   "metadata": {},
   "outputs": [
    {
     "data": {
      "text/plain": [
       "[{'NAME': '20_07_14_NEW_1_25',\n",
       "  'TIME': '2022-10-25 17:06:58.9866706',\n",
       "  'RA': 298.71141666666665,\n",
       "  'DELTA': 43.31397222222222,\n",
       "  'EXP_RA': 298.7115483333333,\n",
       "  'EXP_DELTA': 43.31379277777778,\n",
       "  'ERROR%': 0.07590872461659892},\n",
       " {'NAME': '20_21_23_NEW_1_24',\n",
       "  'TIME': '2022-10-24 17:21:16.2156161',\n",
       "  'RA': 296.92075,\n",
       "  'DELTA': 40.62147222222222,\n",
       "  'EXP_RA': 296.92077916666665,\n",
       "  'EXP_DELTA': 40.621424166666664,\n",
       "  'ERROR%': 0.019043801048357244},\n",
       " {'NAME': '20_26_06_NEW_1_25',\n",
       "  'TIME': '2022-10-25 17:25:58.7432791',\n",
       "  'RA': 298.7341666666667,\n",
       "  'DELTA': 43.348555555555556,\n",
       "  'EXP_RA': 298.7341420833333,\n",
       "  'EXP_DELTA': 43.34866944444445,\n",
       "  'ERROR%': 0.04404639825917825},\n",
       " {'NAME': '20_40_29_NEW_1_24',\n",
       "  'TIME': '2022-10-24 17:21:16.2156161',\n",
       "  'RA': 296.94266666666664,\n",
       "  'DELTA': 40.658277777777776,\n",
       "  'EXP_RA': 296.9428658333333,\n",
       "  'EXP_DELTA': 40.65817055555556,\n",
       "  'ERROR%': 0.052423133285380626},\n",
       " {'NAME': '20_40_39_NEW_1_25',\n",
       "  'TIME': '2022-10-25 17:40:31.8030482',\n",
       "  'RA': 298.75166666666667,\n",
       "  'DELTA': 43.374972222222226,\n",
       "  'EXP_RA': 298.75179375,\n",
       "  'EXP_DELTA': 43.37484583333333,\n",
       "  'ERROR%': 0.055943059576833556},\n",
       " {'NAME': '20_55_16_NEW_1_24',\n",
       "  'TIME': '2022-10-24 17:21:16.2156161',\n",
       "  'RA': 296.9596666666667,\n",
       "  'DELTA': 40.68666666666666,\n",
       "  'EXP_RA': 296.959695,\n",
       "  'EXP_DELTA': 40.686792777777775,\n",
       "  'ERROR%': 0.04238250893403878}]"
      ]
     },
     "execution_count": 7,
     "metadata": {},
     "output_type": "execute_result"
    }
   ],
   "source": [
    "finalData"
   ]
  },
  {
   "cell_type": "code",
   "execution_count": null,
   "metadata": {},
   "outputs": [],
   "source": []
  }
 ],
 "metadata": {
  "kernelspec": {
   "display_name": "base",
   "language": "python",
   "name": "python3"
  },
  "language_info": {
   "codemirror_mode": {
    "name": "ipython",
    "version": 3
   },
   "file_extension": ".py",
   "mimetype": "text/x-python",
   "name": "python",
   "nbconvert_exporter": "python",
   "pygments_lexer": "ipython3",
   "version": "3.11.4"
  }
 },
 "nbformat": 4,
 "nbformat_minor": 2
}
